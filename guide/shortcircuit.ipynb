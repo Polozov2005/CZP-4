{
 "cells": [
  {
   "cell_type": "markdown",
   "metadata": {},
   "source": [
    "# Расчёт токов короткого замыкания согласно IEC 60909\n",
    "\n",
    "pandapower поддерживает расчёт токов короткого замыкания методом эквивалентного источника напряжения в точке повреждения в соответствии со стандартом IEC 60909. Расчёт коротких замыканий в pandapower учитывает следующие элементы:\n",
    "\n",
    "- sgen (в качестве двигателя или генератора с полным преобразователем)\n",
    "- gen (в качестве синхронного генератора)\n",
    "- ext_grid (внешняя сеть)\n",
    "- line (линия)\n",
    "- trafo (двухобмоточный трансформатор)\n",
    "- trafo3w (трёхобмоточный трансформатор)\n",
    "- impedance (импеданс)\n",
    "\n",
    "с применением поправочных коэффициентов, определённых в IEC 60909. Нагрузки и шунты, согласно стандарту, не учитываются. Модель коммутационных аппаратов (switch) pandapower полностью интегрирована в расчёт короткого замыкания.\n",
    "\n",
    "Могут быть рассчитаны следующие токи короткого замыкания:\n",
    "- ikss (начальный симметричный ток короткого замыкания)\n",
    "- ip (ударный ток короткого замыкания)\n",
    "- ith (эквивалентный термический ток короткого замыкания)\n",
    "\n",
    "как при\n",
    "\n",
    "- симметричном трёхфазном, так и при\n",
    "- несимметричном двухфазном\n",
    "\n",
    "коротком замыкании. Расчёты применимы как для замкнутых (сетевых), так и для радиальных сетей. Величины ip и ith реализованы только для случаев короткого замыкания, удалённых от синхронных генераторов.\n",
    "\n",
    "Результаты расчётов для всех элементов и различных токов короткого замыкания проверены путём сравнения с коммерческим программным обеспечением, чтобы гарантировать корректное применение поправочных коэффициентов."
   ]
  },
  {
   "cell_type": "markdown",
   "metadata": {},
   "source": [
    "### Пример сети\n",
    "\n",
    "Вот небольшой пример использования расчёта короткого замыкания. Сначала создаём простую разомкнутую кольцевую сеть из 4 узлов (шин), соединённых одним трансформатором и двумя линиями, причём одна секционирующая точка разомкнута. Питание сети осуществляется от внешней сети (ext_grid) в узле 1:\n",
    "\n",
    "<img src=\"shortcircuit/example_network_sc.png\">"
   ]
  },
  {
   "cell_type": "code",
   "execution_count": null,
   "metadata": {},
   "outputs": [],
   "source": [
    "import pandapower as pp\n",
    "import pandapower.shortcircuit as sc\n",
    "\n",
    "def ring_network():\n",
    "    net = pp.create_empty_network()\n",
    "    b1 = pp.create_bus(net, 220)\n",
    "    b2 = pp.create_bus(net, 110)\n",
    "    b3 = pp.create_bus(net, 110)\n",
    "    b4 = pp.create_bus(net, 110)\n",
    "    pp.create_ext_grid(net, b1, s_sc_max_mva=100., s_sc_min_mva=80., rx_min=0.20, rx_max=0.35)\n",
    "    pp.create_transformer(net, b1, b2, \"100 MVA 220/110 kV\")\n",
    "    pp.create_line(net, b2, b3, std_type=\"N2XS(FL)2Y 1x120 RM/35 64/110 kV\" , length_km=15.)\n",
    "    l2 = pp.create_line(net, b3, b4, std_type=\"N2XS(FL)2Y 1x120 RM/35 64/110 kV\" , length_km=12.)\n",
    "    pp.create_line(net, b4, b2, std_type=\"N2XS(FL)2Y 1x120 RM/35 64/110 kV\" , length_km=10.)\n",
    "    pp.create_switch(net, b4, l2, closed=False, et=\"l\")\n",
    "    return net"
   ]
  },
  {
   "cell_type": "markdown",
   "metadata": {},
   "source": [
    "## Расчёт симметричных токов короткого замыкания\n",
    "\n",
    "### Максимальные токи короткого замыкания\n",
    "Теперь загружаем сеть и вычисляем максимальные токи короткого замыкания с помощью функции `calc_sc`:"
   ]
  },
  {
   "cell_type": "code",
   "execution_count": 13,
   "metadata": {},
   "outputs": [
    {
     "name": "stderr",
     "output_type": "stream",
     "text": [
      "Branch results are in beta mode and might not always be reliable, especially for transformers\n",
      "c:\\Users\\sasha\\AppData\\Local\\Programs\\Python\\Python313\\Lib\\site-packages\\pandapower\\build_branch.py:1342: FutureWarning: Downcasting object dtype arrays on .fillna, .ffill, .bfill is deprecated and will change in a future version. Call result.infer_objects(copy=False) instead. To opt-in to the future behavior, set `pd.set_option('future.no_silent_downcasting', True)`\n",
      "  power_station_unit = trafo_df.power_station_unit.fillna(False).values.astype(bool)\n",
      "c:\\Users\\sasha\\AppData\\Local\\Programs\\Python\\Python313\\Lib\\site-packages\\pandapower\\build_branch.py:1342: FutureWarning: Downcasting object dtype arrays on .fillna, .ffill, .bfill is deprecated and will change in a future version. Call result.infer_objects(copy=False) instead. To opt-in to the future behavior, set `pd.set_option('future.no_silent_downcasting', True)`\n",
      "  power_station_unit = trafo_df.power_station_unit.fillna(False).values.astype(bool)\n",
      "c:\\Users\\sasha\\AppData\\Local\\Programs\\Python\\Python313\\Lib\\site-packages\\pandapower\\shortcircuit\\currents.py:227: RuntimeWarning: invalid value encountered in log\n",
      "  m = (np.exp(4 * f * tk_s * np.log(kappa - 1)) - 1) / (2 * f * tk_s * np.log(kappa - 1))\n",
      "c:\\Users\\sasha\\AppData\\Local\\Programs\\Python\\Python313\\Lib\\site-packages\\pandapower\\shortcircuit\\currents.py:641: RuntimeWarning: All-NaN slice encountered\n",
      "  ppci[\"branch\"][:, IP_F] = np.nanmax(np.abs(ip_all_f), axis=1) / baseI[fb]\n",
      "c:\\Users\\sasha\\AppData\\Local\\Programs\\Python\\Python313\\Lib\\site-packages\\pandapower\\shortcircuit\\currents.py:642: RuntimeWarning: All-NaN slice encountered\n",
      "  ppci[\"branch\"][:, IP_T] = np.nanmax(np.abs(ip_all_t), axis=1) / baseI[tb]\n",
      "c:\\Users\\sasha\\AppData\\Local\\Programs\\Python\\Python313\\Lib\\site-packages\\pandapower\\shortcircuit\\currents.py:658: RuntimeWarning: All-NaN slice encountered\n",
      "  ppci[\"branch\"][:, ITH_F] = np.nanmax(np.abs(ith_all_f), axis=1) / baseI[fb]\n",
      "c:\\Users\\sasha\\AppData\\Local\\Programs\\Python\\Python313\\Lib\\site-packages\\pandapower\\shortcircuit\\currents.py:659: RuntimeWarning: All-NaN slice encountered\n",
      "  ppci[\"branch\"][:, ITH_T] = np.nanmax(np.abs(ith_all_t), axis=1) / baseI[fb]\n"
     ]
    },
    {
     "data": {
      "text/html": [
       "<div>\n",
       "<style scoped>\n",
       "    .dataframe tbody tr th:only-of-type {\n",
       "        vertical-align: middle;\n",
       "    }\n",
       "\n",
       "    .dataframe tbody tr th {\n",
       "        vertical-align: top;\n",
       "    }\n",
       "\n",
       "    .dataframe thead th {\n",
       "        text-align: right;\n",
       "    }\n",
       "</style>\n",
       "<table border=\"1\" class=\"dataframe\">\n",
       "  <thead>\n",
       "    <tr style=\"text-align: right;\">\n",
       "      <th></th>\n",
       "      <th>ikss_ka</th>\n",
       "      <th>skss_mw</th>\n",
       "      <th>ip_ka</th>\n",
       "      <th>ith_ka</th>\n",
       "      <th>rk_ohm</th>\n",
       "      <th>xk_ohm</th>\n",
       "    </tr>\n",
       "  </thead>\n",
       "  <tbody>\n",
       "    <tr>\n",
       "      <th>0</th>\n",
       "      <td>0.262432</td>\n",
       "      <td>100.000000</td>\n",
       "      <td>0.505834</td>\n",
       "      <td>0.263723</td>\n",
       "      <td>175.878566</td>\n",
       "      <td>502.510189</td>\n",
       "    </tr>\n",
       "    <tr>\n",
       "      <th>1</th>\n",
       "      <td>0.476454</td>\n",
       "      <td>90.776637</td>\n",
       "      <td>0.942589</td>\n",
       "      <td>0.479039</td>\n",
       "      <td>44.276323</td>\n",
       "      <td>139.778739</td>\n",
       "    </tr>\n",
       "    <tr>\n",
       "      <th>2</th>\n",
       "      <td>0.466671</td>\n",
       "      <td>88.912758</td>\n",
       "      <td>0.915418</td>\n",
       "      <td>0.469123</td>\n",
       "      <td>46.571323</td>\n",
       "      <td>142.268739</td>\n",
       "    </tr>\n",
       "    <tr>\n",
       "      <th>3</th>\n",
       "      <td>0.469892</td>\n",
       "      <td>89.526397</td>\n",
       "      <td>0.924301</td>\n",
       "      <td>0.472386</td>\n",
       "      <td>45.806323</td>\n",
       "      <td>141.438739</td>\n",
       "    </tr>\n",
       "  </tbody>\n",
       "</table>\n",
       "</div>"
      ],
      "text/plain": [
       "    ikss_ka     skss_mw     ip_ka    ith_ka      rk_ohm      xk_ohm\n",
       "0  0.262432  100.000000  0.505834  0.263723  175.878566  502.510189\n",
       "1  0.476454   90.776637  0.942589  0.479039   44.276323  139.778739\n",
       "2  0.466671   88.912758  0.915418  0.469123   46.571323  142.268739\n",
       "3  0.469892   89.526397  0.924301  0.472386   45.806323  141.438739"
      ]
     },
     "execution_count": 13,
     "metadata": {},
     "output_type": "execute_result"
    }
   ],
   "source": [
    "net = ring_network()\n",
    "sc.calc_sc(net, case=\"max\", ip=True, ith=True, branch_results=True)\n",
    "net.res_bus_sc"
   ]
  },
  {
   "cell_type": "markdown",
   "metadata": {},
   "source": [
    "где **ikss** — начальный ток короткого замыкания, **ip** — ударный (пиковый) ток короткого замыкания, а **ith** — эквивалентный термический ток.\n",
    "\n",
    "Для ветвей результаты определяются как максимальные токи, протекающие по ветви при возникновении короткого замыкания в любом из узлов сети. Результаты доступны отдельно для линий:"
   ]
  },
  {
   "cell_type": "code",
   "execution_count": 14,
   "metadata": {},
   "outputs": [
    {
     "data": {
      "text/html": [
       "<div>\n",
       "<style scoped>\n",
       "    .dataframe tbody tr th:only-of-type {\n",
       "        vertical-align: middle;\n",
       "    }\n",
       "\n",
       "    .dataframe tbody tr th {\n",
       "        vertical-align: top;\n",
       "    }\n",
       "\n",
       "    .dataframe thead th {\n",
       "        text-align: right;\n",
       "    }\n",
       "</style>\n",
       "<table border=\"1\" class=\"dataframe\">\n",
       "  <thead>\n",
       "    <tr style=\"text-align: right;\">\n",
       "      <th></th>\n",
       "      <th>ikss_ka</th>\n",
       "      <th>ikss_from_ka</th>\n",
       "      <th>ikss_from_degree</th>\n",
       "      <th>ikss_to_ka</th>\n",
       "      <th>ikss_to_degree</th>\n",
       "      <th>p_from_mw</th>\n",
       "      <th>q_from_mvar</th>\n",
       "      <th>p_to_mw</th>\n",
       "      <th>q_to_mvar</th>\n",
       "      <th>vm_from_pu</th>\n",
       "      <th>va_from_degree</th>\n",
       "      <th>vm_to_pu</th>\n",
       "      <th>va_to_degree</th>\n",
       "      <th>ip_ka</th>\n",
       "      <th>ith_ka</th>\n",
       "    </tr>\n",
       "  </thead>\n",
       "  <tbody>\n",
       "    <tr>\n",
       "      <th>0</th>\n",
       "      <td>0.466671</td>\n",
       "      <td>0.466671</td>\n",
       "      <td>-71.874268</td>\n",
       "      <td>0.466671</td>\n",
       "      <td>108.125732</td>\n",
       "      <td>1.499428</td>\n",
       "      <td>1.62683</td>\n",
       "      <td>0.000000</td>\n",
       "      <td>0.000000</td>\n",
       "      <td>0.024883</td>\n",
       "      <td>-24.540621</td>\n",
       "      <td>0.016703</td>\n",
       "      <td>-24.721299</td>\n",
       "      <td>0.915418</td>\n",
       "      <td>0.469123</td>\n",
       "    </tr>\n",
       "    <tr>\n",
       "      <th>1</th>\n",
       "      <td>0.000000</td>\n",
       "      <td>0.000000</td>\n",
       "      <td>0.000000</td>\n",
       "      <td>0.000000</td>\n",
       "      <td>0.000000</td>\n",
       "      <td>0.000000</td>\n",
       "      <td>0.00000</td>\n",
       "      <td>0.000000</td>\n",
       "      <td>0.000000</td>\n",
       "      <td>0.016703</td>\n",
       "      <td>-24.721299</td>\n",
       "      <td>0.016703</td>\n",
       "      <td>-24.721299</td>\n",
       "      <td>0.000000</td>\n",
       "      <td>0.000000</td>\n",
       "    </tr>\n",
       "    <tr>\n",
       "      <th>2</th>\n",
       "      <td>0.469892</td>\n",
       "      <td>0.469892</td>\n",
       "      <td>107.945055</td>\n",
       "      <td>0.469892</td>\n",
       "      <td>-72.054945</td>\n",
       "      <td>0.000000</td>\n",
       "      <td>0.00000</td>\n",
       "      <td>1.013464</td>\n",
       "      <td>1.099575</td>\n",
       "      <td>0.024883</td>\n",
       "      <td>-24.540621</td>\n",
       "      <td>0.024883</td>\n",
       "      <td>-24.540621</td>\n",
       "      <td>0.924301</td>\n",
       "      <td>0.472386</td>\n",
       "    </tr>\n",
       "  </tbody>\n",
       "</table>\n",
       "</div>"
      ],
      "text/plain": [
       "    ikss_ka  ikss_from_ka  ikss_from_degree  ikss_to_ka  ikss_to_degree  \\\n",
       "0  0.466671      0.466671        -71.874268    0.466671      108.125732   \n",
       "1  0.000000      0.000000          0.000000    0.000000        0.000000   \n",
       "2  0.469892      0.469892        107.945055    0.469892      -72.054945   \n",
       "\n",
       "   p_from_mw  q_from_mvar   p_to_mw  q_to_mvar  vm_from_pu  va_from_degree  \\\n",
       "0   1.499428      1.62683  0.000000   0.000000    0.024883      -24.540621   \n",
       "1   0.000000      0.00000  0.000000   0.000000    0.016703      -24.721299   \n",
       "2   0.000000      0.00000  1.013464   1.099575    0.024883      -24.540621   \n",
       "\n",
       "   vm_to_pu  va_to_degree     ip_ka    ith_ka  \n",
       "0  0.016703    -24.721299  0.915418  0.469123  \n",
       "1  0.016703    -24.721299  0.000000  0.000000  \n",
       "2  0.024883    -24.540621  0.924301  0.472386  "
      ]
     },
     "execution_count": 14,
     "metadata": {},
     "output_type": "execute_result"
    }
   ],
   "source": [
    "net.res_line_sc"
   ]
  },
  {
   "cell_type": "markdown",
   "metadata": {},
   "source": [
    "и для трансформаторов:"
   ]
  },
  {
   "cell_type": "code",
   "execution_count": 15,
   "metadata": {},
   "outputs": [
    {
     "data": {
      "text/html": [
       "<div>\n",
       "<style scoped>\n",
       "    .dataframe tbody tr th:only-of-type {\n",
       "        vertical-align: middle;\n",
       "    }\n",
       "\n",
       "    .dataframe tbody tr th {\n",
       "        vertical-align: top;\n",
       "    }\n",
       "\n",
       "    .dataframe thead th {\n",
       "        text-align: right;\n",
       "    }\n",
       "</style>\n",
       "<table border=\"1\" class=\"dataframe\">\n",
       "  <thead>\n",
       "    <tr style=\"text-align: right;\">\n",
       "      <th></th>\n",
       "      <th>ikss_hv_ka</th>\n",
       "      <th>ikss_hv_degree</th>\n",
       "      <th>ikss_lv_ka</th>\n",
       "      <th>ikss_lv_degree</th>\n",
       "      <th>p_hv_mw</th>\n",
       "      <th>q_hv_mvar</th>\n",
       "      <th>p_lv_mw</th>\n",
       "      <th>q_lv_mvar</th>\n",
       "      <th>vm_hv_pu</th>\n",
       "      <th>va_hv_degree</th>\n",
       "      <th>vm_lv_pu</th>\n",
       "      <th>va_lv_degree</th>\n",
       "    </tr>\n",
       "  </thead>\n",
       "  <tbody>\n",
       "    <tr>\n",
       "      <th>0</th>\n",
       "      <td>0.238227</td>\n",
       "      <td>-72.423878</td>\n",
       "      <td>0.476454</td>\n",
       "      <td>107.576122</td>\n",
       "      <td>1.699796</td>\n",
       "      <td>10.872445</td>\n",
       "      <td>0.0</td>\n",
       "      <td>0.0</td>\n",
       "      <td>0.123768</td>\n",
       "      <td>9.240049</td>\n",
       "      <td>0.024883</td>\n",
       "      <td>-24.540621</td>\n",
       "    </tr>\n",
       "  </tbody>\n",
       "</table>\n",
       "</div>"
      ],
      "text/plain": [
       "   ikss_hv_ka  ikss_hv_degree  ikss_lv_ka  ikss_lv_degree   p_hv_mw  \\\n",
       "0    0.238227      -72.423878    0.476454      107.576122  1.699796   \n",
       "\n",
       "   q_hv_mvar  p_lv_mw  q_lv_mvar  vm_hv_pu  va_hv_degree  vm_lv_pu  \\\n",
       "0  10.872445      0.0        0.0  0.123768      9.240049  0.024883   \n",
       "\n",
       "   va_lv_degree  \n",
       "0    -24.540621  "
      ]
     },
     "execution_count": 15,
     "metadata": {},
     "output_type": "execute_result"
    }
   ],
   "source": [
    "net.res_trafo_sc"
   ]
  },
  {
   "cell_type": "markdown",
   "metadata": {},
   "source": [
    "### Минимальные токи короткого замыкания"
   ]
  },
  {
   "cell_type": "markdown",
   "metadata": {},
   "source": [
    "Минимальные токи короткого замыкания можно рассчитать аналогичным образом. Однако сначала необходимо задать, согласно стандарту, конечную температуру проводов после повреждения:"
   ]
  },
  {
   "cell_type": "code",
   "execution_count": 16,
   "metadata": {},
   "outputs": [
    {
     "name": "stderr",
     "output_type": "stream",
     "text": [
      "Branch results are in beta mode and might not always be reliable, especially for transformers\n",
      "c:\\Users\\sasha\\AppData\\Local\\Programs\\Python\\Python313\\Lib\\site-packages\\pandapower\\build_branch.py:1342: FutureWarning: Downcasting object dtype arrays on .fillna, .ffill, .bfill is deprecated and will change in a future version. Call result.infer_objects(copy=False) instead. To opt-in to the future behavior, set `pd.set_option('future.no_silent_downcasting', True)`\n",
      "  power_station_unit = trafo_df.power_station_unit.fillna(False).values.astype(bool)\n",
      "c:\\Users\\sasha\\AppData\\Local\\Programs\\Python\\Python313\\Lib\\site-packages\\pandapower\\build_branch.py:1342: FutureWarning: Downcasting object dtype arrays on .fillna, .ffill, .bfill is deprecated and will change in a future version. Call result.infer_objects(copy=False) instead. To opt-in to the future behavior, set `pd.set_option('future.no_silent_downcasting', True)`\n",
      "  power_station_unit = trafo_df.power_station_unit.fillna(False).values.astype(bool)\n",
      "c:\\Users\\sasha\\AppData\\Local\\Programs\\Python\\Python313\\Lib\\site-packages\\pandapower\\shortcircuit\\currents.py:227: RuntimeWarning: invalid value encountered in log\n",
      "  m = (np.exp(4 * f * tk_s * np.log(kappa - 1)) - 1) / (2 * f * tk_s * np.log(kappa - 1))\n",
      "c:\\Users\\sasha\\AppData\\Local\\Programs\\Python\\Python313\\Lib\\site-packages\\pandapower\\shortcircuit\\currents.py:641: RuntimeWarning: All-NaN slice encountered\n",
      "  ppci[\"branch\"][:, IP_F] = np.nanmax(np.abs(ip_all_f), axis=1) / baseI[fb]\n",
      "c:\\Users\\sasha\\AppData\\Local\\Programs\\Python\\Python313\\Lib\\site-packages\\pandapower\\shortcircuit\\currents.py:642: RuntimeWarning: All-NaN slice encountered\n",
      "  ppci[\"branch\"][:, IP_T] = np.nanmax(np.abs(ip_all_t), axis=1) / baseI[tb]\n",
      "c:\\Users\\sasha\\AppData\\Local\\Programs\\Python\\Python313\\Lib\\site-packages\\pandapower\\shortcircuit\\currents.py:658: RuntimeWarning: All-NaN slice encountered\n",
      "  ppci[\"branch\"][:, ITH_F] = np.nanmax(np.abs(ith_all_f), axis=1) / baseI[fb]\n",
      "c:\\Users\\sasha\\AppData\\Local\\Programs\\Python\\Python313\\Lib\\site-packages\\pandapower\\shortcircuit\\currents.py:659: RuntimeWarning: All-NaN slice encountered\n",
      "  ppci[\"branch\"][:, ITH_T] = np.nanmax(np.abs(ith_all_t), axis=1) / baseI[fb]\n"
     ]
    },
    {
     "data": {
      "text/html": [
       "<div>\n",
       "<style scoped>\n",
       "    .dataframe tbody tr th:only-of-type {\n",
       "        vertical-align: middle;\n",
       "    }\n",
       "\n",
       "    .dataframe tbody tr th {\n",
       "        vertical-align: top;\n",
       "    }\n",
       "\n",
       "    .dataframe thead th {\n",
       "        text-align: right;\n",
       "    }\n",
       "</style>\n",
       "<table border=\"1\" class=\"dataframe\">\n",
       "  <thead>\n",
       "    <tr style=\"text-align: right;\">\n",
       "      <th></th>\n",
       "      <th>ikss_ka</th>\n",
       "      <th>skss_mw</th>\n",
       "      <th>ip_ka</th>\n",
       "      <th>ith_ka</th>\n",
       "      <th>rk_ohm</th>\n",
       "      <th>xk_ohm</th>\n",
       "    </tr>\n",
       "  </thead>\n",
       "  <tbody>\n",
       "    <tr>\n",
       "      <th>0</th>\n",
       "      <td>0.209946</td>\n",
       "      <td>80.000000</td>\n",
       "      <td>0.462534</td>\n",
       "      <td>0.211736</td>\n",
       "      <td>118.650262</td>\n",
       "      <td>593.251309</td>\n",
       "    </tr>\n",
       "    <tr>\n",
       "      <th>1</th>\n",
       "      <td>0.384422</td>\n",
       "      <td>73.242307</td>\n",
       "      <td>0.860874</td>\n",
       "      <td>0.387974</td>\n",
       "      <td>29.969247</td>\n",
       "      <td>162.464019</td>\n",
       "    </tr>\n",
       "    <tr>\n",
       "      <th>2</th>\n",
       "      <td>0.377608</td>\n",
       "      <td>71.943998</td>\n",
       "      <td>0.832832</td>\n",
       "      <td>0.380846</td>\n",
       "      <td>32.815047</td>\n",
       "      <td>164.954019</td>\n",
       "    </tr>\n",
       "    <tr>\n",
       "      <th>3</th>\n",
       "      <td>0.379861</td>\n",
       "      <td>72.373180</td>\n",
       "      <td>0.841982</td>\n",
       "      <td>0.383197</td>\n",
       "      <td>31.866447</td>\n",
       "      <td>164.124019</td>\n",
       "    </tr>\n",
       "  </tbody>\n",
       "</table>\n",
       "</div>"
      ],
      "text/plain": [
       "    ikss_ka    skss_mw     ip_ka    ith_ka      rk_ohm      xk_ohm\n",
       "0  0.209946  80.000000  0.462534  0.211736  118.650262  593.251309\n",
       "1  0.384422  73.242307  0.860874  0.387974   29.969247  162.464019\n",
       "2  0.377608  71.943998  0.832832  0.380846   32.815047  164.954019\n",
       "3  0.379861  72.373180  0.841982  0.383197   31.866447  164.124019"
      ]
     },
     "execution_count": 16,
     "metadata": {},
     "output_type": "execute_result"
    }
   ],
   "source": [
    "net = ring_network()\n",
    "net.line[\"endtemp_degree\"] = 80\n",
    "sc.calc_sc(net, case=\"min\", ith=True, ip=True, branch_results=True)\n",
    "net.res_bus_sc"
   ]
  },
  {
   "cell_type": "markdown",
   "metadata": {},
   "source": [
    "Теперь результаты для ветвей представляют собой минимальные токи, протекающие через каждую ветвь:"
   ]
  },
  {
   "cell_type": "code",
   "execution_count": 17,
   "metadata": {},
   "outputs": [
    {
     "data": {
      "text/html": [
       "<div>\n",
       "<style scoped>\n",
       "    .dataframe tbody tr th:only-of-type {\n",
       "        vertical-align: middle;\n",
       "    }\n",
       "\n",
       "    .dataframe tbody tr th {\n",
       "        vertical-align: top;\n",
       "    }\n",
       "\n",
       "    .dataframe thead th {\n",
       "        text-align: right;\n",
       "    }\n",
       "</style>\n",
       "<table border=\"1\" class=\"dataframe\">\n",
       "  <thead>\n",
       "    <tr style=\"text-align: right;\">\n",
       "      <th></th>\n",
       "      <th>ikss_ka</th>\n",
       "      <th>ikss_from_ka</th>\n",
       "      <th>ikss_from_degree</th>\n",
       "      <th>ikss_to_ka</th>\n",
       "      <th>ikss_to_degree</th>\n",
       "      <th>p_from_mw</th>\n",
       "      <th>q_from_mvar</th>\n",
       "      <th>p_to_mw</th>\n",
       "      <th>q_to_mvar</th>\n",
       "      <th>vm_from_pu</th>\n",
       "      <th>va_from_degree</th>\n",
       "      <th>vm_to_pu</th>\n",
       "      <th>va_to_degree</th>\n",
       "      <th>ip_ka</th>\n",
       "      <th>ith_ka</th>\n",
       "    </tr>\n",
       "  </thead>\n",
       "  <tbody>\n",
       "    <tr>\n",
       "      <th>0</th>\n",
       "      <td>0.377608</td>\n",
       "      <td>0.377608</td>\n",
       "      <td>-78.748780</td>\n",
       "      <td>0.377608</td>\n",
       "      <td>101.251220</td>\n",
       "      <td>0.0</td>\n",
       "      <td>-0.0</td>\n",
       "      <td>0.0</td>\n",
       "      <td>-0.0</td>\n",
       "      <td>0.0</td>\n",
       "      <td>0.0</td>\n",
       "      <td>0.0</td>\n",
       "      <td>0.0</td>\n",
       "      <td>8.328324e-01</td>\n",
       "      <td>3.808460e-01</td>\n",
       "    </tr>\n",
       "    <tr>\n",
       "      <th>1</th>\n",
       "      <td>0.000000</td>\n",
       "      <td>0.000000</td>\n",
       "      <td>0.000000</td>\n",
       "      <td>0.000000</td>\n",
       "      <td>0.000000</td>\n",
       "      <td>0.0</td>\n",
       "      <td>-0.0</td>\n",
       "      <td>0.0</td>\n",
       "      <td>-0.0</td>\n",
       "      <td>0.0</td>\n",
       "      <td>0.0</td>\n",
       "      <td>0.0</td>\n",
       "      <td>0.0</td>\n",
       "      <td>1.000000e+10</td>\n",
       "      <td>1.000000e+10</td>\n",
       "    </tr>\n",
       "    <tr>\n",
       "      <th>2</th>\n",
       "      <td>0.379861</td>\n",
       "      <td>0.379861</td>\n",
       "      <td>100.987879</td>\n",
       "      <td>0.379861</td>\n",
       "      <td>-79.012121</td>\n",
       "      <td>0.0</td>\n",
       "      <td>-0.0</td>\n",
       "      <td>0.0</td>\n",
       "      <td>-0.0</td>\n",
       "      <td>0.0</td>\n",
       "      <td>0.0</td>\n",
       "      <td>0.0</td>\n",
       "      <td>0.0</td>\n",
       "      <td>8.419815e-01</td>\n",
       "      <td>3.831970e-01</td>\n",
       "    </tr>\n",
       "  </tbody>\n",
       "</table>\n",
       "</div>"
      ],
      "text/plain": [
       "    ikss_ka  ikss_from_ka  ikss_from_degree  ikss_to_ka  ikss_to_degree  \\\n",
       "0  0.377608      0.377608        -78.748780    0.377608      101.251220   \n",
       "1  0.000000      0.000000          0.000000    0.000000        0.000000   \n",
       "2  0.379861      0.379861        100.987879    0.379861      -79.012121   \n",
       "\n",
       "   p_from_mw  q_from_mvar  p_to_mw  q_to_mvar  vm_from_pu  va_from_degree  \\\n",
       "0        0.0         -0.0      0.0       -0.0         0.0             0.0   \n",
       "1        0.0         -0.0      0.0       -0.0         0.0             0.0   \n",
       "2        0.0         -0.0      0.0       -0.0         0.0             0.0   \n",
       "\n",
       "   vm_to_pu  va_to_degree         ip_ka        ith_ka  \n",
       "0       0.0           0.0  8.328324e-01  3.808460e-01  \n",
       "1       0.0           0.0  1.000000e+10  1.000000e+10  \n",
       "2       0.0           0.0  8.419815e-01  3.831970e-01  "
      ]
     },
     "execution_count": 17,
     "metadata": {},
     "output_type": "execute_result"
    }
   ],
   "source": [
    "net.res_line_sc"
   ]
  },
  {
   "cell_type": "code",
   "execution_count": 18,
   "metadata": {},
   "outputs": [
    {
     "data": {
      "text/html": [
       "<div>\n",
       "<style scoped>\n",
       "    .dataframe tbody tr th:only-of-type {\n",
       "        vertical-align: middle;\n",
       "    }\n",
       "\n",
       "    .dataframe tbody tr th {\n",
       "        vertical-align: top;\n",
       "    }\n",
       "\n",
       "    .dataframe thead th {\n",
       "        text-align: right;\n",
       "    }\n",
       "</style>\n",
       "<table border=\"1\" class=\"dataframe\">\n",
       "  <thead>\n",
       "    <tr style=\"text-align: right;\">\n",
       "      <th></th>\n",
       "      <th>ikss_hv_ka</th>\n",
       "      <th>ikss_hv_degree</th>\n",
       "      <th>ikss_lv_ka</th>\n",
       "      <th>ikss_lv_degree</th>\n",
       "      <th>p_hv_mw</th>\n",
       "      <th>q_hv_mvar</th>\n",
       "      <th>p_lv_mw</th>\n",
       "      <th>q_lv_mvar</th>\n",
       "      <th>vm_hv_pu</th>\n",
       "      <th>va_hv_degree</th>\n",
       "      <th>vm_lv_pu</th>\n",
       "      <th>va_lv_degree</th>\n",
       "    </tr>\n",
       "  </thead>\n",
       "  <tbody>\n",
       "    <tr>\n",
       "      <th>0</th>\n",
       "      <td>0.188804</td>\n",
       "      <td>-78.74878</td>\n",
       "      <td>0.377608</td>\n",
       "      <td>101.25122</td>\n",
       "      <td>0.0</td>\n",
       "      <td>0.0</td>\n",
       "      <td>-1.217329</td>\n",
       "      <td>-1.065131</td>\n",
       "      <td>0.0</td>\n",
       "      <td>0.0</td>\n",
       "      <td>0.0</td>\n",
       "      <td>0.0</td>\n",
       "    </tr>\n",
       "  </tbody>\n",
       "</table>\n",
       "</div>"
      ],
      "text/plain": [
       "   ikss_hv_ka  ikss_hv_degree  ikss_lv_ka  ikss_lv_degree  p_hv_mw  q_hv_mvar  \\\n",
       "0    0.188804       -78.74878    0.377608       101.25122      0.0        0.0   \n",
       "\n",
       "    p_lv_mw  q_lv_mvar  vm_hv_pu  va_hv_degree  vm_lv_pu  va_lv_degree  \n",
       "0 -1.217329  -1.065131       0.0           0.0       0.0           0.0  "
      ]
     },
     "execution_count": 18,
     "metadata": {},
     "output_type": "execute_result"
    }
   ],
   "source": [
    "net.res_trafo_sc"
   ]
  },
  {
   "cell_type": "markdown",
   "metadata": {},
   "source": [
    "### Асинхронные двигатели\n",
    "\n",
    "Асинхронные двигатели задаются путём создания статического генератора (static generator) типа «motor». Для расчёта сопротивления при коротком замыкании необходимо указать отношение R/X (параметр «rx»), а также коэффициент «k» — отношение номинального тока двигателя к его току короткого замыкания:"
   ]
  },
  {
   "cell_type": "code",
   "execution_count": 19,
   "metadata": {},
   "outputs": [
    {
     "data": {
      "text/plain": [
       "This pandapower network includes the following parameter tables:\n",
       "   - bus (4 elements)\n",
       "   - sgen (1 element)\n",
       "   - switch (1 element)\n",
       "   - ext_grid (1 element)\n",
       "   - line (3 elements)\n",
       "   - trafo (1 element)"
      ]
     },
     "execution_count": 19,
     "metadata": {},
     "output_type": "execute_result"
    }
   ],
   "source": [
    "net = ring_network()\n",
    "pp.create_sgen(net, 2, p_mw=0, sn_mva=0.5, k=1.2, rx=7., type=\"motor\")\n",
    "net"
   ]
  },
  {
   "cell_type": "markdown",
   "metadata": {},
   "source": [
    "Если мы снова выполним расчёт короткого замыкания, то увидим, что токи увеличились за счёт вклада инвертеров в токи короткого замыкания."
   ]
  },
  {
   "cell_type": "code",
   "execution_count": 20,
   "metadata": {},
   "outputs": [
    {
     "name": "stderr",
     "output_type": "stream",
     "text": [
      "c:\\Users\\sasha\\AppData\\Local\\Programs\\Python\\Python313\\Lib\\site-packages\\pandapower\\build_branch.py:1342: FutureWarning: Downcasting object dtype arrays on .fillna, .ffill, .bfill is deprecated and will change in a future version. Call result.infer_objects(copy=False) instead. To opt-in to the future behavior, set `pd.set_option('future.no_silent_downcasting', True)`\n",
      "  power_station_unit = trafo_df.power_station_unit.fillna(False).values.astype(bool)\n",
      "c:\\Users\\sasha\\AppData\\Local\\Programs\\Python\\Python313\\Lib\\site-packages\\pandapower\\build_branch.py:1342: FutureWarning: Downcasting object dtype arrays on .fillna, .ffill, .bfill is deprecated and will change in a future version. Call result.infer_objects(copy=False) instead. To opt-in to the future behavior, set `pd.set_option('future.no_silent_downcasting', True)`\n",
      "  power_station_unit = trafo_df.power_station_unit.fillna(False).values.astype(bool)\n",
      "c:\\Users\\sasha\\AppData\\Local\\Programs\\Python\\Python313\\Lib\\site-packages\\pandapower\\shortcircuit\\currents.py:227: RuntimeWarning: invalid value encountered in log\n",
      "  m = (np.exp(4 * f * tk_s * np.log(kappa - 1)) - 1) / (2 * f * tk_s * np.log(kappa - 1))\n"
     ]
    },
    {
     "data": {
      "text/html": [
       "<div>\n",
       "<style scoped>\n",
       "    .dataframe tbody tr th:only-of-type {\n",
       "        vertical-align: middle;\n",
       "    }\n",
       "\n",
       "    .dataframe tbody tr th {\n",
       "        vertical-align: top;\n",
       "    }\n",
       "\n",
       "    .dataframe thead th {\n",
       "        text-align: right;\n",
       "    }\n",
       "</style>\n",
       "<table border=\"1\" class=\"dataframe\">\n",
       "  <thead>\n",
       "    <tr style=\"text-align: right;\">\n",
       "      <th></th>\n",
       "      <th>ikss_ka</th>\n",
       "      <th>skss_mw</th>\n",
       "      <th>ip_ka</th>\n",
       "      <th>ith_ka</th>\n",
       "      <th>rk_ohm</th>\n",
       "      <th>xk_ohm</th>\n",
       "    </tr>\n",
       "  </thead>\n",
       "  <tbody>\n",
       "    <tr>\n",
       "      <th>0</th>\n",
       "      <td>0.264007</td>\n",
       "      <td>100.600000</td>\n",
       "      <td>0.508061</td>\n",
       "      <td>0.265306</td>\n",
       "      <td>175.878566</td>\n",
       "      <td>502.510189</td>\n",
       "    </tr>\n",
       "    <tr>\n",
       "      <th>1</th>\n",
       "      <td>0.479603</td>\n",
       "      <td>91.376637</td>\n",
       "      <td>0.947043</td>\n",
       "      <td>0.482205</td>\n",
       "      <td>44.276323</td>\n",
       "      <td>139.778739</td>\n",
       "    </tr>\n",
       "    <tr>\n",
       "      <th>2</th>\n",
       "      <td>0.469820</td>\n",
       "      <td>89.512758</td>\n",
       "      <td>0.919871</td>\n",
       "      <td>0.472289</td>\n",
       "      <td>46.571323</td>\n",
       "      <td>142.268739</td>\n",
       "    </tr>\n",
       "    <tr>\n",
       "      <th>3</th>\n",
       "      <td>0.472998</td>\n",
       "      <td>90.118134</td>\n",
       "      <td>0.928693</td>\n",
       "      <td>0.475509</td>\n",
       "      <td>45.806323</td>\n",
       "      <td>141.438739</td>\n",
       "    </tr>\n",
       "  </tbody>\n",
       "</table>\n",
       "</div>"
      ],
      "text/plain": [
       "    ikss_ka     skss_mw     ip_ka    ith_ka      rk_ohm      xk_ohm\n",
       "0  0.264007  100.600000  0.508061  0.265306  175.878566  502.510189\n",
       "1  0.479603   91.376637  0.947043  0.482205   44.276323  139.778739\n",
       "2  0.469820   89.512758  0.919871  0.472289   46.571323  142.268739\n",
       "3  0.472998   90.118134  0.928693  0.475509   45.806323  141.438739"
      ]
     },
     "execution_count": 20,
     "metadata": {},
     "output_type": "execute_result"
    }
   ],
   "source": [
    "sc.calc_sc(net, case=\"max\", ith=True, ip=True)\n",
    "net.res_bus_sc"
   ]
  },
  {
   "cell_type": "markdown",
   "metadata": {},
   "source": [
    "### Синхронные генераторы\n",
    "\n",
    "Синхронные генераторы также могут учитываться при расчёте короткого замыкания с использованием элемента `gen`. Согласно стандарту, для определения сопротивления при коротком замыкании необходимо задать следующие параметры: номинальный коэффициент мощности (cos φ) — «cos_phi», номинальное напряжение — «vn_kv», номинальную полную мощность — «sn_kva», а также сверхпереходное активное сопротивление «rdss» и сверхпереходное реактивное сопротивление «xdss»:"
   ]
  },
  {
   "cell_type": "code",
   "execution_count": 21,
   "metadata": {},
   "outputs": [
    {
     "data": {
      "text/plain": [
       "This pandapower network includes the following parameter tables:\n",
       "   - bus (4 elements)\n",
       "   - gen (1 element)\n",
       "   - switch (1 element)\n",
       "   - ext_grid (1 element)\n",
       "   - line (3 elements)\n",
       "   - trafo (1 element)"
      ]
     },
     "execution_count": 21,
     "metadata": {},
     "output_type": "execute_result"
    }
   ],
   "source": [
    "net = ring_network()\n",
    "pp.create_gen(net, 2, p_mw=0, vm_pu=1.0, cos_phi=0.8, vn_kv=22, sn_mva=5, xdss_pu=0.2, rdss_pu=0.005)\n",
    "net"
   ]
  },
  {
   "cell_type": "markdown",
   "metadata": {},
   "source": [
    "и снова выполним расчёт короткого замыкания:"
   ]
  },
  {
   "cell_type": "code",
   "execution_count": 22,
   "metadata": {},
   "outputs": [
    {
     "name": "stderr",
     "output_type": "stream",
     "text": [
      "aperiodic, thermal short-circuit currents are only implemented for faults far from generators!\n",
      "c:\\Users\\sasha\\AppData\\Local\\Programs\\Python\\Python313\\Lib\\site-packages\\pandapower\\build_branch.py:1342: FutureWarning: Downcasting object dtype arrays on .fillna, .ffill, .bfill is deprecated and will change in a future version. Call result.infer_objects(copy=False) instead. To opt-in to the future behavior, set `pd.set_option('future.no_silent_downcasting', True)`\n",
      "  power_station_unit = trafo_df.power_station_unit.fillna(False).values.astype(bool)\n",
      "c:\\Users\\sasha\\AppData\\Local\\Programs\\Python\\Python313\\Lib\\site-packages\\pandapower\\build_branch.py:1342: FutureWarning: Downcasting object dtype arrays on .fillna, .ffill, .bfill is deprecated and will change in a future version. Call result.infer_objects(copy=False) instead. To opt-in to the future behavior, set `pd.set_option('future.no_silent_downcasting', True)`\n",
      "  power_station_unit = trafo_df.power_station_unit.fillna(False).values.astype(bool)\n"
     ]
    },
    {
     "ename": "AttributeError",
     "evalue": "'DataFrame' object has no attribute 'rdss_ohm'",
     "output_type": "error",
     "traceback": [
      "\u001b[31m---------------------------------------------------------------------------\u001b[39m",
      "\u001b[31mAttributeError\u001b[39m                            Traceback (most recent call last)",
      "\u001b[32m~\\AppData\\Local\\Temp\\ipykernel_4068\\507238209.py\u001b[39m in \u001b[36m?\u001b[39m\u001b[34m()\u001b[39m\n\u001b[32m----> \u001b[39m\u001b[32m1\u001b[39m sc.calc_sc(net, case=\u001b[33m\"max\"\u001b[39m, ith=\u001b[38;5;28;01mTrue\u001b[39;00m, ip=\u001b[38;5;28;01mTrue\u001b[39;00m)\n\u001b[32m      2\u001b[39m net.res_bus_sc\n",
      "\u001b[32mc:\\Users\\sasha\\AppData\\Local\\Programs\\Python\\Python313\\Lib\\site-packages\\pandapower\\shortcircuit\\calc_sc.py\u001b[39m in \u001b[36m?\u001b[39m\u001b[34m(net, bus, fault, case, lv_tol_percent, topology, ip, ith, tk_s, kappa_method, r_fault_ohm, x_fault_ohm, branch_results, check_connectivity, return_all_currents, inverse_y, use_pre_fault_voltage)\u001b[39m\n\u001b[32m    152\u001b[39m                     inverse_y=inverse_y, use_pre_fault_voltage=use_pre_fault_voltage)\n\u001b[32m    153\u001b[39m     init_results(net, \u001b[33m\"sc\"\u001b[39m)\n\u001b[32m    154\u001b[39m \n\u001b[32m    155\u001b[39m     \u001b[38;5;28;01mif\u001b[39;00m fault \u001b[38;5;28;01min\u001b[39;00m (\u001b[33m\"2ph\"\u001b[39m, \u001b[33m\"3ph\"\u001b[39m):\n\u001b[32m--> \u001b[39m\u001b[32m156\u001b[39m         _calc_sc(net, bus)\n\u001b[32m    157\u001b[39m     \u001b[38;5;28;01melif\u001b[39;00m fault == \u001b[33m\"1ph\"\u001b[39m:\n\u001b[32m    158\u001b[39m         _calc_sc_1ph(net, bus)\n\u001b[32m    159\u001b[39m     \u001b[38;5;28;01melse\u001b[39;00m:\n",
      "\u001b[32mc:\\Users\\sasha\\AppData\\Local\\Programs\\Python\\Python313\\Lib\\site-packages\\pandapower\\shortcircuit\\calc_sc.py\u001b[39m in \u001b[36m?\u001b[39m\u001b[34m(net, bus)\u001b[39m\n\u001b[32m    209\u001b[39m \u001b[38;5;28;01mdef\u001b[39;00m _calc_sc(net, bus):\n\u001b[32m--> \u001b[39m\u001b[32m210\u001b[39m     ppc, ppci = _init_ppc(net)\n\u001b[32m    211\u001b[39m \n\u001b[32m    212\u001b[39m     _calc_current(net, ppci, bus)\n\u001b[32m    213\u001b[39m \n",
      "\u001b[32mc:\\Users\\sasha\\AppData\\Local\\Programs\\Python\\Python313\\Lib\\site-packages\\pandapower\\shortcircuit\\ppc_conversion.py\u001b[39m in \u001b[36m?\u001b[39m\u001b[34m(net)\u001b[39m\n\u001b[32m     37\u001b[39m     ppc[\u001b[33m\"branch\"\u001b[39m][:, [K_T, K_ST]] = np.nan\n\u001b[32m     38\u001b[39m \n\u001b[32m     39\u001b[39m     \u001b[38;5;66;03m# Add parameter K into ppc\u001b[39;00m\n\u001b[32m     40\u001b[39m     _add_kt(net, ppc)\n\u001b[32m---> \u001b[39m\u001b[32m41\u001b[39m     _add_gen_sc_z_kg_ks(net, ppc)\n\u001b[32m     42\u001b[39m     _add_sgen_sc_z(net, ppc)\n\u001b[32m     43\u001b[39m     _add_ward_sc_z(net, ppc)\n\u001b[32m     44\u001b[39m \n",
      "\u001b[32mc:\\Users\\sasha\\AppData\\Local\\Programs\\Python\\Python313\\Lib\\site-packages\\pandapower\\shortcircuit\\ppc_conversion.py\u001b[39m in \u001b[36m?\u001b[39m\u001b[34m(net, ppc)\u001b[39m\n\u001b[32m    152\u001b[39m     gen_buses_ppc = bus_lookup[gen_buses]\n\u001b[32m    153\u001b[39m \n\u001b[32m    154\u001b[39m     vn_gen = gen.vn_kv.values\n\u001b[32m    155\u001b[39m     sn_gen = gen.sn_mva.values\n\u001b[32m--> \u001b[39m\u001b[32m156\u001b[39m     rdss_ohm = gen.rdss_ohm.values\n\u001b[32m    157\u001b[39m     xdss_pu = gen.xdss_pu.values\n\u001b[32m    158\u001b[39m \n\u001b[32m    159\u001b[39m     \u001b[38;5;66;03m# Set to zero to avoid nan\u001b[39;00m\n",
      "\u001b[32mc:\\Users\\sasha\\AppData\\Local\\Programs\\Python\\Python313\\Lib\\site-packages\\pandas\\core\\generic.py\u001b[39m in \u001b[36m?\u001b[39m\u001b[34m(self, name)\u001b[39m\n\u001b[32m   6314\u001b[39m             \u001b[38;5;28;01mand\u001b[39;00m name \u001b[38;5;28;01mnot\u001b[39;00m \u001b[38;5;28;01min\u001b[39;00m self._accessors\n\u001b[32m   6315\u001b[39m             \u001b[38;5;28;01mand\u001b[39;00m self._info_axis._can_hold_identifiers_and_holds_name(name)\n\u001b[32m   6316\u001b[39m         ):\n\u001b[32m   6317\u001b[39m             \u001b[38;5;28;01mreturn\u001b[39;00m self[name]\n\u001b[32m-> \u001b[39m\u001b[32m6318\u001b[39m         \u001b[38;5;28;01mreturn\u001b[39;00m object.__getattribute__(self, name)\n",
      "\u001b[31mAttributeError\u001b[39m: 'DataFrame' object has no attribute 'rdss_ohm'"
     ]
    }
   ],
   "source": [
    "sc.calc_sc(net, case=\"max\", ith=True, ip=True)\n",
    "net.res_bus_sc"
   ]
  },
  {
   "cell_type": "markdown",
   "metadata": {},
   "source": [
    "Опять же, ток короткого замыкания увеличивается за счёт вклада генератора. Как указано в предупреждении, значения ударного тока (ip) и эквивалентного термического тока короткого замыкания (ith) будут точными только для повреждений, удалённых от генераторов."
   ]
  },
  {
   "cell_type": "markdown",
   "metadata": {},
   "source": [
    "## Замкнутые (сетевые) сети\n",
    "\n",
    "Поправочные коэффициенты для апериодической составляющей и термического тока различаются для замкнутых (сетевых) и радиальных сетей. pandapower включает автоматическое определение типа топологии, которое для каждого места короткого замыкания самостоятельно выявляет, является ли сеть замкнутой или радиальной. Кроме того, тип топологии можно явно задать как «radial» (радиальная) или «meshed» (замкнутая), чтобы обойти автоматическую проверку и сократить время расчёта.\n",
    "\n",
    "Загружаем радиальную сеть и замыкаем ранее разомкнутую секционирующую точку, чтобы получить замкнутую кольцевую сеть:"
   ]
  },
  {
   "cell_type": "code",
   "execution_count": null,
   "metadata": {},
   "outputs": [
    {
     "data": {
      "text/html": [
       "<div>\n",
       "<style scoped>\n",
       "    .dataframe tbody tr th:only-of-type {\n",
       "        vertical-align: middle;\n",
       "    }\n",
       "\n",
       "    .dataframe tbody tr th {\n",
       "        vertical-align: top;\n",
       "    }\n",
       "\n",
       "    .dataframe thead th {\n",
       "        text-align: right;\n",
       "    }\n",
       "</style>\n",
       "<table border=\"1\" class=\"dataframe\">\n",
       "  <thead>\n",
       "    <tr style=\"text-align: right;\">\n",
       "      <th></th>\n",
       "      <th>ikss_ka</th>\n",
       "      <th>ip_ka</th>\n",
       "      <th>ith_ka</th>\n",
       "    </tr>\n",
       "  </thead>\n",
       "  <tbody>\n",
       "    <tr>\n",
       "      <th>0</th>\n",
       "      <td>0.262432</td>\n",
       "      <td>0.505834</td>\n",
       "      <td>0.263723</td>\n",
       "    </tr>\n",
       "    <tr>\n",
       "      <th>1</th>\n",
       "      <td>0.476454</td>\n",
       "      <td>0.942589</td>\n",
       "      <td>0.479039</td>\n",
       "    </tr>\n",
       "    <tr>\n",
       "      <th>2</th>\n",
       "      <td>0.470593</td>\n",
       "      <td>0.926244</td>\n",
       "      <td>0.473098</td>\n",
       "    </tr>\n",
       "    <tr>\n",
       "      <th>3</th>\n",
       "      <td>0.471649</td>\n",
       "      <td>0.929174</td>\n",
       "      <td>0.474168</td>\n",
       "    </tr>\n",
       "  </tbody>\n",
       "</table>\n",
       "</div>"
      ],
      "text/plain": [
       "    ikss_ka     ip_ka    ith_ka\n",
       "0  0.262432  0.505834  0.263723\n",
       "1  0.476454  0.942589  0.479039\n",
       "2  0.470593  0.926244  0.473098\n",
       "3  0.471649  0.929174  0.474168"
      ]
     },
     "execution_count": 14,
     "metadata": {},
     "output_type": "execute_result"
    }
   ],
   "source": [
    "net = ring_network()\n",
    "net.switch.closed = True\n",
    "sc.calc_sc(net, topology=\"auto\", ip=True, ith=True)\n",
    "net.res_bus_sc"
   ]
  },
  {
   "cell_type": "markdown",
   "metadata": {},
   "source": [
    "Сеть автоматически определяется как замкнутая (meshed), и соответствующие поправочные коэффициенты применяются автоматически. Это можно проверить, явно задав топологию как радиальную («radial») и сравнив полученные результаты:"
   ]
  },
  {
   "cell_type": "code",
   "execution_count": null,
   "metadata": {},
   "outputs": [
    {
     "data": {
      "text/html": [
       "<div>\n",
       "<style scoped>\n",
       "    .dataframe tbody tr th:only-of-type {\n",
       "        vertical-align: middle;\n",
       "    }\n",
       "\n",
       "    .dataframe tbody tr th {\n",
       "        vertical-align: top;\n",
       "    }\n",
       "\n",
       "    .dataframe thead th {\n",
       "        text-align: right;\n",
       "    }\n",
       "</style>\n",
       "<table border=\"1\" class=\"dataframe\">\n",
       "  <thead>\n",
       "    <tr style=\"text-align: right;\">\n",
       "      <th></th>\n",
       "      <th>ikss_ka</th>\n",
       "      <th>ip_ka</th>\n",
       "      <th>ith_ka</th>\n",
       "    </tr>\n",
       "  </thead>\n",
       "  <tbody>\n",
       "    <tr>\n",
       "      <th>0</th>\n",
       "      <td>0.262432</td>\n",
       "      <td>0.505834</td>\n",
       "      <td>0.263723</td>\n",
       "    </tr>\n",
       "    <tr>\n",
       "      <th>1</th>\n",
       "      <td>0.476454</td>\n",
       "      <td>0.942589</td>\n",
       "      <td>0.479039</td>\n",
       "    </tr>\n",
       "    <tr>\n",
       "      <th>2</th>\n",
       "      <td>0.470593</td>\n",
       "      <td>0.926244</td>\n",
       "      <td>0.473098</td>\n",
       "    </tr>\n",
       "    <tr>\n",
       "      <th>3</th>\n",
       "      <td>0.471649</td>\n",
       "      <td>0.929174</td>\n",
       "      <td>0.474168</td>\n",
       "    </tr>\n",
       "  </tbody>\n",
       "</table>\n",
       "</div>"
      ],
      "text/plain": [
       "    ikss_ka     ip_ka    ith_ka\n",
       "0  0.262432  0.505834  0.263723\n",
       "1  0.476454  0.942589  0.479039\n",
       "2  0.470593  0.926244  0.473098\n",
       "3  0.471649  0.929174  0.474168"
      ]
     },
     "execution_count": 15,
     "metadata": {},
     "output_type": "execute_result"
    }
   ],
   "source": [
    "sc.calc_sc(net, topology=\"radial\", ip=True, ith=True)\n",
    "net.res_bus_sc"
   ]
  },
  {
   "cell_type": "markdown",
   "metadata": {},
   "source": [
    "Если посмотреть на результаты для линий, можно увидеть, что токи в линиях значительно меньше токов в узлах (шинах):"
   ]
  },
  {
   "cell_type": "code",
   "execution_count": null,
   "metadata": {},
   "outputs": [
    {
     "name": "stderr",
     "output_type": "stream",
     "text": [
      "tazan.pandapower.shortcircuit.calc_sc - WARNING: Branch results are in beta mode and might not always be reliable, especially for transformers\n"
     ]
    },
    {
     "data": {
      "text/html": [
       "<div>\n",
       "<style scoped>\n",
       "    .dataframe tbody tr th:only-of-type {\n",
       "        vertical-align: middle;\n",
       "    }\n",
       "\n",
       "    .dataframe tbody tr th {\n",
       "        vertical-align: top;\n",
       "    }\n",
       "\n",
       "    .dataframe thead th {\n",
       "        text-align: right;\n",
       "    }\n",
       "</style>\n",
       "<table border=\"1\" class=\"dataframe\">\n",
       "  <thead>\n",
       "    <tr style=\"text-align: right;\">\n",
       "      <th></th>\n",
       "      <th>ikss_ka</th>\n",
       "      <th>ip_ka</th>\n",
       "      <th>ith_ka</th>\n",
       "    </tr>\n",
       "  </thead>\n",
       "  <tbody>\n",
       "    <tr>\n",
       "      <th>0</th>\n",
       "      <td>0.279812</td>\n",
       "      <td>0.550740</td>\n",
       "      <td>0.281301</td>\n",
       "    </tr>\n",
       "    <tr>\n",
       "      <th>1</th>\n",
       "      <td>0.190781</td>\n",
       "      <td>0.375504</td>\n",
       "      <td>0.191796</td>\n",
       "    </tr>\n",
       "    <tr>\n",
       "      <th>2</th>\n",
       "      <td>0.344176</td>\n",
       "      <td>0.678046</td>\n",
       "      <td>0.346014</td>\n",
       "    </tr>\n",
       "  </tbody>\n",
       "</table>\n",
       "</div>"
      ],
      "text/plain": [
       "    ikss_ka     ip_ka    ith_ka\n",
       "0  0.279812  0.550740  0.281301\n",
       "1  0.190781  0.375504  0.191796\n",
       "2  0.344176  0.678046  0.346014"
      ]
     },
     "execution_count": 16,
     "metadata": {},
     "output_type": "execute_result"
    }
   ],
   "source": [
    "sc.calc_sc(net, topology=\"auto\", ip=True, ith=True, branch_results=True)\n",
    "net.res_line_sc"
   ]
  },
  {
   "cell_type": "markdown",
   "metadata": {},
   "source": [
    "это происходит потому, что ток короткого замыкания распределяется по обоим путям кольца, что корректно учитывается pandapower."
   ]
  },
  {
   "cell_type": "markdown",
   "metadata": {},
   "source": [
    "## Сопротивление в месте повреждения\n",
    "\n",
    "В расчёте короткого замыкания также можно задать сопротивление в месте повреждения:"
   ]
  },
  {
   "cell_type": "code",
   "execution_count": null,
   "metadata": {},
   "outputs": [],
   "source": [
    "net = ring_network()\n",
    "sc.calc_sc(net, topology=\"radial\", ip=True, ith=True, r_fault_ohm=1., x_fault_ohm=2.)"
   ]
  },
  {
   "cell_type": "markdown",
   "metadata": {},
   "source": [
    "что, конечно же, приводит к уменьшению токов короткого замыкания:"
   ]
  },
  {
   "cell_type": "code",
   "execution_count": null,
   "metadata": {},
   "outputs": [
    {
     "data": {
      "text/html": [
       "<div>\n",
       "<style scoped>\n",
       "    .dataframe tbody tr th:only-of-type {\n",
       "        vertical-align: middle;\n",
       "    }\n",
       "\n",
       "    .dataframe tbody tr th {\n",
       "        vertical-align: top;\n",
       "    }\n",
       "\n",
       "    .dataframe thead th {\n",
       "        text-align: right;\n",
       "    }\n",
       "</style>\n",
       "<table border=\"1\" class=\"dataframe\">\n",
       "  <thead>\n",
       "    <tr style=\"text-align: right;\">\n",
       "      <th></th>\n",
       "      <th>ikss_ka</th>\n",
       "      <th>ip_ka</th>\n",
       "      <th>ith_ka</th>\n",
       "    </tr>\n",
       "  </thead>\n",
       "  <tbody>\n",
       "    <tr>\n",
       "      <th>0</th>\n",
       "      <td>0.261343</td>\n",
       "      <td>0.503509</td>\n",
       "      <td>0.262627</td>\n",
       "    </tr>\n",
       "    <tr>\n",
       "      <th>1</th>\n",
       "      <td>0.469382</td>\n",
       "      <td>0.926656</td>\n",
       "      <td>0.471909</td>\n",
       "    </tr>\n",
       "    <tr>\n",
       "      <th>2</th>\n",
       "      <td>0.459875</td>\n",
       "      <td>0.900379</td>\n",
       "      <td>0.462274</td>\n",
       "    </tr>\n",
       "    <tr>\n",
       "      <th>3</th>\n",
       "      <td>0.463005</td>\n",
       "      <td>0.908972</td>\n",
       "      <td>0.465446</td>\n",
       "    </tr>\n",
       "  </tbody>\n",
       "</table>\n",
       "</div>"
      ],
      "text/plain": [
       "    ikss_ka     ip_ka    ith_ka\n",
       "0  0.261343  0.503509  0.262627\n",
       "1  0.469382  0.926656  0.471909\n",
       "2  0.459875  0.900379  0.462274\n",
       "3  0.463005  0.908972  0.465446"
      ]
     },
     "execution_count": 18,
     "metadata": {},
     "output_type": "execute_result"
    }
   ],
   "source": [
    "net.res_bus_sc"
   ]
  },
  {
   "cell_type": "markdown",
   "metadata": {},
   "source": [
    "## Расчёт несимметричного двухфазного тока короткого замыкания\n",
    "\n",
    "Все приведённые выше расчёты могут быть выполнены и для двухфазного тока короткого замыкания аналогичным образом — достаточно указать параметр `fault=\"2ph\"`:"
   ]
  },
  {
   "cell_type": "code",
   "execution_count": null,
   "metadata": {},
   "outputs": [
    {
     "data": {
      "text/html": [
       "<div>\n",
       "<style scoped>\n",
       "    .dataframe tbody tr th:only-of-type {\n",
       "        vertical-align: middle;\n",
       "    }\n",
       "\n",
       "    .dataframe tbody tr th {\n",
       "        vertical-align: top;\n",
       "    }\n",
       "\n",
       "    .dataframe thead th {\n",
       "        text-align: right;\n",
       "    }\n",
       "</style>\n",
       "<table border=\"1\" class=\"dataframe\">\n",
       "  <thead>\n",
       "    <tr style=\"text-align: right;\">\n",
       "      <th></th>\n",
       "      <th>ikss_ka</th>\n",
       "      <th>ip_ka</th>\n",
       "      <th>ith_ka</th>\n",
       "    </tr>\n",
       "  </thead>\n",
       "  <tbody>\n",
       "    <tr>\n",
       "      <th>0</th>\n",
       "      <td>0.227273</td>\n",
       "      <td>0.438065</td>\n",
       "      <td>0.228391</td>\n",
       "    </tr>\n",
       "    <tr>\n",
       "      <th>1</th>\n",
       "      <td>0.412621</td>\n",
       "      <td>0.816306</td>\n",
       "      <td>0.414860</td>\n",
       "    </tr>\n",
       "    <tr>\n",
       "      <th>2</th>\n",
       "      <td>0.404149</td>\n",
       "      <td>0.792775</td>\n",
       "      <td>0.406272</td>\n",
       "    </tr>\n",
       "    <tr>\n",
       "      <th>3</th>\n",
       "      <td>0.406938</td>\n",
       "      <td>0.800468</td>\n",
       "      <td>0.409099</td>\n",
       "    </tr>\n",
       "  </tbody>\n",
       "</table>\n",
       "</div>"
      ],
      "text/plain": [
       "    ikss_ka     ip_ka    ith_ka\n",
       "0  0.227273  0.438065  0.228391\n",
       "1  0.412621  0.816306  0.414860\n",
       "2  0.404149  0.792775  0.406272\n",
       "3  0.406938  0.800468  0.409099"
      ]
     },
     "execution_count": 19,
     "metadata": {},
     "output_type": "execute_result"
    }
   ],
   "source": [
    "net = ring_network()\n",
    "sc.calc_sc(net, fault=\"2ph\", ip=True, ith=True)\n",
    "net.res_bus_sc"
   ]
  },
  {
   "cell_type": "markdown",
   "metadata": {},
   "source": [
    "Двухфазные короткие замыкания часто используются при расчётах минимальных токов короткого замыкания:"
   ]
  },
  {
   "cell_type": "code",
   "execution_count": null,
   "metadata": {},
   "outputs": [
    {
     "data": {
      "text/html": [
       "<div>\n",
       "<style scoped>\n",
       "    .dataframe tbody tr th:only-of-type {\n",
       "        vertical-align: middle;\n",
       "    }\n",
       "\n",
       "    .dataframe tbody tr th {\n",
       "        vertical-align: top;\n",
       "    }\n",
       "\n",
       "    .dataframe thead th {\n",
       "        text-align: right;\n",
       "    }\n",
       "</style>\n",
       "<table border=\"1\" class=\"dataframe\">\n",
       "  <thead>\n",
       "    <tr style=\"text-align: right;\">\n",
       "      <th></th>\n",
       "      <th>ikss_ka</th>\n",
       "      <th>ip_ka</th>\n",
       "      <th>ith_ka</th>\n",
       "    </tr>\n",
       "  </thead>\n",
       "  <tbody>\n",
       "    <tr>\n",
       "      <th>0</th>\n",
       "      <td>0.181818</td>\n",
       "      <td>0.400566</td>\n",
       "      <td>0.183369</td>\n",
       "    </tr>\n",
       "    <tr>\n",
       "      <th>1</th>\n",
       "      <td>0.332920</td>\n",
       "      <td>0.745538</td>\n",
       "      <td>0.335995</td>\n",
       "    </tr>\n",
       "    <tr>\n",
       "      <th>2</th>\n",
       "      <td>0.326772</td>\n",
       "      <td>0.717815</td>\n",
       "      <td>0.329521</td>\n",
       "    </tr>\n",
       "    <tr>\n",
       "      <th>3</th>\n",
       "      <td>0.328807</td>\n",
       "      <td>0.726834</td>\n",
       "      <td>0.331657</td>\n",
       "    </tr>\n",
       "  </tbody>\n",
       "</table>\n",
       "</div>"
      ],
      "text/plain": [
       "    ikss_ka     ip_ka    ith_ka\n",
       "0  0.181818  0.400566  0.183369\n",
       "1  0.332920  0.745538  0.335995\n",
       "2  0.326772  0.717815  0.329521\n",
       "3  0.328807  0.726834  0.331657"
      ]
     },
     "execution_count": 20,
     "metadata": {},
     "output_type": "execute_result"
    }
   ],
   "source": [
    "net = ring_network()\n",
    "net.line[\"endtemp_degree\"] = 150\n",
    "sc.calc_sc(net, fault=\"2ph\", case=\"min\", ip=True, ith=True)\n",
    "net.res_bus_sc"
   ]
  },
  {
   "cell_type": "markdown",
   "metadata": {},
   "source": [
    "## Расчёт однофазного тока короткого замыкания"
   ]
  },
  {
   "cell_type": "markdown",
   "metadata": {},
   "source": [
    "pandapower также позволяет рассчитывать однофазные токи короткого замыкания. Однако замыкание на землю зависит от параметров нулевой последовательности сети, которые необходимо задать для выполнения расчёта однофазного замыкания на землю:"
   ]
  },
  {
   "cell_type": "code",
   "execution_count": null,
   "metadata": {},
   "outputs": [],
   "source": [
    "net = ring_network()\n",
    "\n",
    "#r/x ratio in zero sequence parameters\n",
    "net.ext_grid[\"r0x0_max\"] = 0.4\n",
    "net.ext_grid[\"x0x_max\"] = 1.0\n",
    "\n",
    "#zero sequence line parameters\n",
    "net.line[\"r0_ohm_per_km\"] = 0.244\n",
    "net.line[\"x0_ohm_per_km\"] = 0.336\n",
    "net.line[\"c0_nf_per_km\"] = 2000\n",
    "\n",
    "#transformer vector group, zero sequence short circuit voltage\n",
    "#and zero sequence magnetizing impedance\n",
    "net.trafo[\"vector_group\"] = \"Dyn\"\n",
    "net.trafo[\"vk0_percent\"] = 5.\n",
    "net.trafo[\"vkr0_percent\"] = 0.4\n",
    "net.trafo[\"mag0_percent\"] = 10\n",
    "net.trafo[\"mag0_rx\"] = 0.4\n",
    "net.trafo[\"si0_hv_partial\"] = 0.9"
   ]
  },
  {
   "cell_type": "code",
   "execution_count": null,
   "metadata": {},
   "outputs": [],
   "source": [
    "sc.calc_sc(net, fault=\"1ph\")"
   ]
  },
  {
   "cell_type": "code",
   "execution_count": null,
   "metadata": {},
   "outputs": [
    {
     "data": {
      "text/html": [
       "<div>\n",
       "<style scoped>\n",
       "    .dataframe tbody tr th:only-of-type {\n",
       "        vertical-align: middle;\n",
       "    }\n",
       "\n",
       "    .dataframe tbody tr th {\n",
       "        vertical-align: top;\n",
       "    }\n",
       "\n",
       "    .dataframe thead th {\n",
       "        text-align: right;\n",
       "    }\n",
       "</style>\n",
       "<table border=\"1\" class=\"dataframe\">\n",
       "  <thead>\n",
       "    <tr style=\"text-align: right;\">\n",
       "      <th></th>\n",
       "      <th>ikss_ka</th>\n",
       "    </tr>\n",
       "  </thead>\n",
       "  <tbody>\n",
       "    <tr>\n",
       "      <th>0</th>\n",
       "      <td>0.261047</td>\n",
       "    </tr>\n",
       "    <tr>\n",
       "      <th>1</th>\n",
       "      <td>0.698664</td>\n",
       "    </tr>\n",
       "    <tr>\n",
       "      <th>2</th>\n",
       "      <td>0.668867</td>\n",
       "    </tr>\n",
       "    <tr>\n",
       "      <th>3</th>\n",
       "      <td>0.680010</td>\n",
       "    </tr>\n",
       "  </tbody>\n",
       "</table>\n",
       "</div>"
      ],
      "text/plain": [
       "    ikss_ka\n",
       "0  0.261047\n",
       "1  0.698664\n",
       "2  0.668867\n",
       "3  0.680010"
      ]
     },
     "execution_count": 57,
     "metadata": {},
     "output_type": "execute_result"
    }
   ],
   "source": [
    "net.res_bus_sc"
   ]
  }
 ],
 "metadata": {
  "anaconda-cloud": {},
  "kernelspec": {
   "display_name": "Python 3",
   "language": "python",
   "name": "python3"
  },
  "language_info": {
   "codemirror_mode": {
    "name": "ipython",
    "version": 3
   },
   "file_extension": ".py",
   "mimetype": "text/x-python",
   "name": "python",
   "nbconvert_exporter": "python",
   "pygments_lexer": "ipython3",
   "version": "3.13.7"
  }
 },
 "nbformat": 4,
 "nbformat_minor": 1
}
